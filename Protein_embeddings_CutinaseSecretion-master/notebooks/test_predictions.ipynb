{
 "cells": [
  {
   "cell_type": "markdown",
   "metadata": {},
   "source": [
    "Train and compare GP regression models using each encoding for each task. "
   ]
  },
  {
   "cell_type": "code",
   "execution_count": 1,
   "metadata": {},
   "outputs": [],
   "source": [
    "import sys\n",
    "import itertools\n",
    "import os\n",
    "import pickle\n",
    "\n",
    "import matplotlib.pyplot as plt\n",
    "import numpy as np\n",
    "import pandas as pd\n",
    "import seaborn as sns\n",
    "from scipy import stats\n",
    "from sklearn import metrics\n",
    "from sklearn import model_selection\n",
    "\n",
    "module_path = os.path.abspath(os.path.join('..'))\n",
    "if module_path not in sys.path:\n",
    "    sys.path.append(module_path+\"\\\\src\")\n",
    "\n",
    "from embeddings_reproduction import gpm\n",
    "from embeddings_reproduction import gpk\n",
    "from embeddings_reproduction import stringkernel"
   ]
  },
  {
   "cell_type": "code",
   "execution_count": 2,
   "metadata": {},
   "outputs": [],
   "source": [
    "%matplotlib inline"
   ]
  },
  {
   "cell_type": "code",
   "execution_count": 3,
   "metadata": {},
   "outputs": [],
   "source": [
    "sns.set_style('white')\n",
    "sns.set_context('paper')"
   ]
  },
  {
   "cell_type": "code",
   "execution_count": 4,
   "metadata": {},
   "outputs": [],
   "source": [
    "# Plot adjustments:\n",
    "plt.rcParams.update({'ytick.labelsize': 15})\n",
    "plt.rcParams.update({'xtick.labelsize': 15})\n",
    "plt.rcParams.update({'axes.labelsize': 35})\n",
    "plt.rcParams.update({'legend.fontsize': 30})\n",
    "plt.rcParams.update({'axes.titlesize': 16})\n",
    "\n",
    "plt.rcParams.update({'axes.grid': False})"
   ]
  },
  {
   "cell_type": "code",
   "execution_count": 5,
   "metadata": {},
   "outputs": [],
   "source": [
    "# assert np.__version__ == '1.13.1'\n",
    "# assert pd.__version__ == '0.20.3'"
   ]
  },
  {
   "cell_type": "code",
   "execution_count": 6,
   "metadata": {},
   "outputs": [],
   "source": [
    "def select_X_and_Y(df, all_X, y_column):\n",
    "    not_dropped = ~pd.isnull(df[y_column])\n",
    "    not_dropped = pd.Series(not_dropped, index=df.index)\n",
    "    Ys = df[not_dropped][y_column]\n",
    "    Ys.index = df[not_dropped]['name']\n",
    "    Xs = all_X.loc[Ys.index]\n",
    "    return Xs, Ys\n",
    "\n",
    "def score(Y, pred_Y, pred_var):\n",
    "    r1 = stats.rankdata(Y)\n",
    "    r2 = stats.rankdata(pred_Y)\n",
    "    scores = {}\n",
    "    scores['kendalltau'] = stats.kendalltau(r1, r2).correlation\n",
    "    scores['R2'] = metrics.r2_score(Y, pred_Y)\n",
    "    scores['mae'] = metrics.mean_absolute_error(Y, pred_Y)\n",
    "    scores['SE'] = metrics.mean_squared_error(Y, pred_Y)\n",
    "    scores['R'] = np.corrcoef(Y, pred_Y)[0, 1]\n",
    "    log_ps = -0.5 * np.log(pred_var) - (pred_Y - Y)**2 / 2 / pred_var\n",
    "    log_ps -= 0.5 * np.log(2 * np.pi)\n",
    "    scores['log_loss'] = -np.sum(log_ps)\n",
    "    return scores\n",
    "\n",
    "def evaluate(df_train, df_test, X, task, X_name, guesses=None, kernel='matern'):\n",
    "    X_train, y_train = select_X_and_Y(df_train, X, task)\n",
    "    X_test, y_test = select_X_and_Y(df_test, X, task)\n",
    "    n_train, d = X_train.shape\n",
    "    n_test, d = X_test.shape\n",
    "    if kernel == 'matern':\n",
    "        k = gpk.MaternKernel('5/2')\n",
    "    if kernel == 'cubic':\n",
    "        k = gpk.PolynomialKernel(3)\n",
    "    clf = gpm.GPRegressor(k, guesses=guesses)\n",
    "    clf.fit(X_train, y_train)\n",
    "    print(X_name)\n",
    "    print(clf.hypers)\n",
    "    mu, var = clf.predict(X_test)\n",
    "    met1 = score(y_test, mu, np.diag(var))\n",
    "    met1['task'] = task\n",
    "    met1['X'] = X_name\n",
    "    met1['d'] = d\n",
    "    met1['n_train'] = n_train\n",
    "    met1['n_test'] = n_test\n",
    "    met1['kernel'] = kernel\n",
    "    met1 = pd.DataFrame(met1, index=[0])\n",
    "    return met1, mu\n",
    "\n",
    "def evaluate_mismatch(df, df_train, df_test, y_col, k, m, guesses=None):\n",
    "    A = sorted(set(itertools.chain.from_iterable(df['sequence'].values)))\n",
    "    ke = stringkernel.MismatchKernel(k, A, m)\n",
    "    X = df[['sequence']]\n",
    "    X.index = df['name']\n",
    "    X_train, y_train = select_X_and_Y(df_train, X, y_col)\n",
    "    X_test, y_test = select_X_and_Y(df_test, X, y_col)\n",
    "    clf = gpm.GPRegressor(ke, guesses=guesses)\n",
    "    clf.fit(X_train['sequence'].values, y_train)\n",
    "    print(k, m)\n",
    "    print(clf.hypers)\n",
    "    mu, var = clf.predict(X_test['sequence'].values)\n",
    "    met1 = score(y_test, mu, np.diag(var))\n",
    "    met1['task'] = y_col\n",
    "    met1['X'] = ''\n",
    "    met1['n_train'] = len(y_train)\n",
    "    met1['n_test'] = len(y_test)\n",
    "    met1['kernel'] = 'mismatch_' + str(k) + '_' + str(m)\n",
    "    met1 = pd.DataFrame(met1, index=[0])\n",
    "    return met1, mu\n",
    "\n",
    "def plot_results(ax, y_test, mu, title):\n",
    "    _ = ax.plot(y_test, mu, 'o', alpha=0.8, ms=10)\n",
    "    _ = ax.set_title(title)\n",
    "    _ = ax.text(0.05, 0.9, \n",
    "                r'$\\tau$ = %0.2f, MAE = %0.2f' %(evals.loc[0, 'kendalltau'], evals.loc[0, 'mae']), \n",
    "                transform=ax.transAxes, fontsize=15)"
   ]
  },
  {
   "cell_type": "code",
   "execution_count": 7,
   "metadata": {},
   "outputs": [],
   "source": [
    "res = pd.DataFrame(index=[], columns=['task', 'X', 'd', 'n_train', 'n_test', \n",
    "                                      'kernel', 'R', 'R2', 'SE', 'kendalltau', 'log_loss'])"
   ]
  },
  {
   "cell_type": "markdown",
   "metadata": {},
   "source": [
    "### MTS Localization"
   ]
  },
  {
   "cell_type": "code",
   "execution_count": 8,
   "metadata": {
    "scrolled": false
   },
   "outputs": [
    {
     "name": "stderr",
     "output_type": "stream",
     "text": [
      "C:\\Users\\IGB\\Anaconda3\\lib\\site-packages\\ipykernel_launcher.py:13: SettingWithCopyWarning: \n",
      "A value is trying to be set on a copy of a slice from a DataFrame.\n",
      "Try using .loc[row_indexer,col_indexer] = value instead\n",
      "\n",
      "See the caveats in the documentation: http://pandas.pydata.org/pandas-docs/stable/user_guide/indexing.html#returning-a-view-versus-a-copy\n",
      "  del sys.path[0]\n",
      "C:\\Users\\IGB\\Anaconda3\\lib\\site-packages\\ipykernel_launcher.py:14: SettingWithCopyWarning: \n",
      "A value is trying to be set on a copy of a slice from a DataFrame.\n",
      "Try using .loc[row_indexer,col_indexer] = value instead\n",
      "\n",
      "See the caveats in the documentation: http://pandas.pydata.org/pandas-docs/stable/user_guide/indexing.html#returning-a-view-versus-a-copy\n",
      "  \n",
      "C:\\Users\\IGB\\Anaconda3\\lib\\site-packages\\ipykernel_launcher.py:29: SettingWithCopyWarning: \n",
      "A value is trying to be set on a copy of a slice from a DataFrame.\n",
      "Try using .loc[row_indexer,col_indexer] = value instead\n",
      "\n",
      "See the caveats in the documentation: http://pandas.pydata.org/pandas-docs/stable/user_guide/indexing.html#returning-a-view-versus-a-copy\n",
      "C:\\Users\\IGB\\Anaconda3\\lib\\site-packages\\ipykernel_launcher.py:30: SettingWithCopyWarning: \n",
      "A value is trying to be set on a copy of a slice from a DataFrame.\n",
      "Try using .loc[row_indexer,col_indexer] = value instead\n",
      "\n",
      "See the caveats in the documentation: http://pandas.pydata.org/pandas-docs/stable/user_guide/indexing.html#returning-a-view-versus-a-copy\n",
      "C:\\Users\\IGB\\Anaconda3\\lib\\site-packages\\ipykernel_launcher.py:44: SettingWithCopyWarning: \n",
      "A value is trying to be set on a copy of a slice from a DataFrame.\n",
      "Try using .loc[row_indexer,col_indexer] = value instead\n",
      "\n",
      "See the caveats in the documentation: http://pandas.pydata.org/pandas-docs/stable/user_guide/indexing.html#returning-a-view-versus-a-copy\n",
      "C:\\Users\\IGB\\Anaconda3\\lib\\site-packages\\ipykernel_launcher.py:45: SettingWithCopyWarning: \n",
      "A value is trying to be set on a copy of a slice from a DataFrame.\n",
      "Try using .loc[row_indexer,col_indexer] = value instead\n",
      "\n",
      "See the caveats in the documentation: http://pandas.pydata.org/pandas-docs/stable/user_guide/indexing.html#returning-a-view-versus-a-copy\n",
      "C:\\Users\\IGB\\Anaconda3\\lib\\site-packages\\ipykernel_launcher.py:60: SettingWithCopyWarning: \n",
      "A value is trying to be set on a copy of a slice from a DataFrame.\n",
      "Try using .loc[row_indexer,col_indexer] = value instead\n",
      "\n",
      "See the caveats in the documentation: http://pandas.pydata.org/pandas-docs/stable/user_guide/indexing.html#returning-a-view-versus-a-copy\n",
      "C:\\Users\\IGB\\Anaconda3\\lib\\site-packages\\ipykernel_launcher.py:61: SettingWithCopyWarning: \n",
      "A value is trying to be set on a copy of a slice from a DataFrame.\n",
      "Try using .loc[row_indexer,col_indexer] = value instead\n",
      "\n",
      "See the caveats in the documentation: http://pandas.pydata.org/pandas-docs/stable/user_guide/indexing.html#returning-a-view-versus-a-copy\n",
      "C:\\Users\\IGB\\Anaconda3\\lib\\site-packages\\ipykernel_launcher.py:75: SettingWithCopyWarning: \n",
      "A value is trying to be set on a copy of a slice from a DataFrame.\n",
      "Try using .loc[row_indexer,col_indexer] = value instead\n",
      "\n",
      "See the caveats in the documentation: http://pandas.pydata.org/pandas-docs/stable/user_guide/indexing.html#returning-a-view-versus-a-copy\n",
      "C:\\Users\\IGB\\Anaconda3\\lib\\site-packages\\ipykernel_launcher.py:76: SettingWithCopyWarning: \n",
      "A value is trying to be set on a copy of a slice from a DataFrame.\n",
      "Try using .loc[row_indexer,col_indexer] = value instead\n",
      "\n",
      "See the caveats in the documentation: http://pandas.pydata.org/pandas-docs/stable/user_guide/indexing.html#returning-a-view-versus-a-copy\n"
     ]
    },
    {
     "name": "stdout",
     "output_type": "stream",
     "text": [
      "5 1\n",
      "[0.16284967 0.8357062 ]\n"
     ]
    },
    {
     "name": "stderr",
     "output_type": "stream",
     "text": [
      "C:\\Users\\IGB\\Anaconda3\\lib\\site-packages\\ipykernel_launcher.py:81: FutureWarning: Sorting because non-concatenation axis is not aligned. A future version\n",
      "of pandas will change to not sort by default.\n",
      "\n",
      "To accept the future behavior, pass 'sort=False'.\n",
      "\n",
      "To retain the current behavior and silence the warning, pass 'sort=True'.\n",
      "\n"
     ]
    },
    {
     "ename": "IndexError",
     "evalue": "too many indices for array",
     "output_type": "error",
     "traceback": [
      "\u001b[1;31m---------------------------------------------------------------------------\u001b[0m",
      "\u001b[1;31mIndexError\u001b[0m                                Traceback (most recent call last)",
      "\u001b[1;32m<ipython-input-8-83231ab2d22a>\u001b[0m in \u001b[0;36m<module>\u001b[1;34m\u001b[0m\n\u001b[0;32m     80\u001b[0m \u001b[0mevals\u001b[0m\u001b[1;33m,\u001b[0m \u001b[0mmu\u001b[0m \u001b[1;33m=\u001b[0m \u001b[0mevaluate_mismatch\u001b[0m\u001b[1;33m(\u001b[0m\u001b[0mdf\u001b[0m\u001b[1;33m,\u001b[0m \u001b[0mdf_train\u001b[0m\u001b[1;33m,\u001b[0m \u001b[0mdf_test\u001b[0m\u001b[1;33m,\u001b[0m \u001b[0my_col\u001b[0m\u001b[1;33m,\u001b[0m \u001b[1;36m5\u001b[0m\u001b[1;33m,\u001b[0m \u001b[1;36m1\u001b[0m\u001b[1;33m)\u001b[0m\u001b[1;33m\u001b[0m\u001b[1;33m\u001b[0m\u001b[0m\n\u001b[0;32m     81\u001b[0m \u001b[0mres\u001b[0m \u001b[1;33m=\u001b[0m \u001b[0mpd\u001b[0m\u001b[1;33m.\u001b[0m\u001b[0mconcat\u001b[0m\u001b[1;33m(\u001b[0m\u001b[1;33m(\u001b[0m\u001b[0mres\u001b[0m\u001b[1;33m,\u001b[0m \u001b[0mevals\u001b[0m\u001b[1;33m)\u001b[0m\u001b[1;33m,\u001b[0m \u001b[0mignore_index\u001b[0m\u001b[1;33m=\u001b[0m\u001b[1;32mTrue\u001b[0m\u001b[1;33m)\u001b[0m\u001b[1;33m\u001b[0m\u001b[1;33m\u001b[0m\u001b[0m\n\u001b[1;32m---> 82\u001b[1;33m \u001b[0mplot_results\u001b[0m\u001b[1;33m(\u001b[0m\u001b[0maxs\u001b[0m\u001b[1;33m[\u001b[0m\u001b[1;36m0\u001b[0m\u001b[1;33m,\u001b[0m \u001b[1;36m1\u001b[0m\u001b[1;33m]\u001b[0m\u001b[1;33m,\u001b[0m \u001b[0my_test\u001b[0m\u001b[1;33m,\u001b[0m \u001b[0mmu\u001b[0m\u001b[1;33m,\u001b[0m \u001b[1;34m'mismatch kernel: k=5, m=1'\u001b[0m\u001b[1;33m)\u001b[0m\u001b[1;33m\u001b[0m\u001b[1;33m\u001b[0m\u001b[0m\n\u001b[0m\u001b[0;32m     83\u001b[0m \u001b[1;33m\u001b[0m\u001b[0m\n\u001b[0;32m     84\u001b[0m \u001b[1;33m\u001b[0m\u001b[0m\n",
      "\u001b[1;31mIndexError\u001b[0m: too many indices for array"
     ]
    },
    {
     "data": {
      "image/png": "[encoded data removed]",
      "text/plain": [
       "<Figure size 864x540 with 6 Axes>"
      ]
     },
     "metadata": {},
     "output_type": "display_data"
    },
    {
     "data": {
      "image/png": "[encoded data removed]",
      "text/plain": [
       "<Figure size 864x540 with 2 Axes>"
      ]
     },
     "metadata": {},
     "output_type": "display_data"
    },
    {
     "data": {
      "image/png": "[encoded data removed]",
      "text/plain": [
       "<Figure size 864x540 with 1 Axes>"
      ]
     },
     "metadata": {},
     "output_type": "display_data"
    },
    {
     "data": {
      "text/plain": [
       "<Figure size 864x540 with 0 Axes>"
      ]
     },
     "metadata": {},
     "output_type": "display_data"
    },
    {
     "data": {
      "text/plain": [
       "<Figure size 864x540 with 0 Axes>"
      ]
     },
     "metadata": {},
     "output_type": "display_data"
    }
   ],
   "source": [
    "y_col = 'log_GFP'\n",
    "dataset = '../inputs/MTS_localization.txt'\n",
    "embedding_dirs = '../outputs/MTS_localization_embeddings/'\n",
    "emb = 'X_small_2_3.pkl'\n",
    "fig, axs = plt.subplots(2, 3, figsize=(12, 7.5))\n",
    "fig.tight_layout()\n",
    "\n",
    "df = pd.read_csv(dataset)\n",
    "df_test = df[~df.is_train]\n",
    "df_train = df[df.is_train]\n",
    "y_test = df_test.dropna(subset=[y_col])[y_col]\n",
    "\n",
    "df_test['is_train'] = [False for _ in range(len(df_test))]\n",
    "df_train['is_train'] = [True for _ in range(len(df_train))]\n",
    "\n",
    "\n",
    "y_col = 'log_GFP'\n",
    "dataset = '../inputs/MTS_localization.txt'\n",
    "embedding_dirs = '../outputs/MTS_localization_embeddings/'\n",
    "emb = 'X_small_3_3.pkl'\n",
    "fig, axs = plt.subplots(1, 2, figsize=(12, 7.5))\n",
    "fig.tight_layout()\n",
    "\n",
    "df = pd.read_csv(dataset)\n",
    "df_test = df[~df.is_train]\n",
    "df_train = df[df.is_train]\n",
    "y_test = df_test.dropna(subset=[y_col])[y_col]\n",
    "\n",
    "df_test['is_train'] = [False for _ in range(len(df_test))]\n",
    "df_train['is_train'] = [True for _ in range(len(df_train))]\n",
    "\n",
    "y_col = 'log_GFP'\n",
    "dataset = '../inputs/MTS_localization.txt'\n",
    "embedding_dirs = '../outputs/MTS_localization_embeddings/'\n",
    "emb = 'X_small_4_3.pkl'\n",
    "fig, axs = plt.subplots(1, 1, figsize=(12, 7.5))\n",
    "fig.tight_layout()\n",
    "\n",
    "df = pd.read_csv(dataset)\n",
    "df_test = df[~df.is_train]\n",
    "df_train = df[df.is_train]\n",
    "y_test = df_test.dropna(subset=[y_col])[y_col]\n",
    "\n",
    "df_test['is_train'] = [False for _ in range(len(df_test))]\n",
    "df_train['is_train'] = [True for _ in range(len(df_train))]\n",
    "\n",
    "\n",
    "y_col = 'log_GFP'\n",
    "dataset = '../inputs/MTS_localization.txt'\n",
    "embedding_dirs = '../outputs/MTS_localization_embeddings/'\n",
    "emb = 'X_small_5_7.pkl'\n",
    "fig, axs = plt.subplots(0, 2, figsize=(12, 7.5))\n",
    "fig.tight_layout()\n",
    "\n",
    "df = pd.read_csv(dataset)\n",
    "df_test = df[~df.is_train]\n",
    "df_train = df[df.is_train]\n",
    "y_test = df_test.dropna(subset=[y_col])[y_col]\n",
    "\n",
    "df_test['is_train'] = [False for _ in range(len(df_test))]\n",
    "df_train['is_train'] = [True for _ in range(len(df_train))]\n",
    "\n",
    "y_col = 'log_GFP'\n",
    "dataset = '../inputs/MTS_localization.txt'\n",
    "embedding_dirs = '../outputs/MTS_localization_embeddings/'\n",
    "emb = 'X_small_3_5.pkl'\n",
    "fig, axs = plt.subplots(1, 0, figsize=(12, 7.5))\n",
    "fig.tight_layout()\n",
    "\n",
    "df = pd.read_csv(dataset)\n",
    "df_test = df[~df.is_train]\n",
    "df_train = df[df.is_train]\n",
    "y_test = df_test.dropna(subset=[y_col])[y_col]\n",
    "\n",
    "df_test['is_train'] = [False for _ in range(len(df_test))]\n",
    "df_train['is_train'] = [True for _ in range(len(df_train))]\n",
    "\n",
    "\n",
    "# Mismatch Kernel\n",
    "evals, mu = evaluate_mismatch(df, df_train, df_test, y_col, 5, 1)\n",
    "res = pd.concat((res, evals), ignore_index=True)\n",
    "plot_results(axs[0, 1], y_test, mu, 'mismatch kernel: k=5, m=1')\n",
    "\n",
    "\n",
    "# Embedding\n",
    "with open(embedding_dirs + emb, 'rb')  as f:\n",
    "    X, _ = pickle.load(f)\n",
    "%time evals, mu = evaluate(df_train, df_test, X, y_col, emb[:-4], guesses=(0.1, 10))\n",
    "res = pd.concat((res, evals), ignore_index=True)\n",
    "plot_results(axs[0, 0], y_test, mu, 'embedding')\n",
    "\n",
    "for i in range(2):\n",
    "    for j in range(3):\n",
    "        y0 = -9.2\n",
    "        y1 = -4\n",
    "        axs[i, j].set_ylim([y0, y1])\n",
    "        x0, x1 = axs[i, j].get_xlim()\n",
    "        _ = axs[i, j].plot([y0, x1], [y0, x1], '--', color='grey', alpha=0.6)\n",
    "        if i != 1:\n",
    "            axs[i, j].get_xaxis().set_visible(False)\n",
    "        if j != 0:\n",
    "            axs[i, j].get_yaxis().set_visible(False)\n",
    "_ = fig.text(0.5, 0.0, 'measured localization', ha='center', va='center', fontsize=16)\n",
    "_ = fig.text(0.0, 0.5, 'predicted localization', ha='center', va='center', rotation=90, fontsize=16)"
   ]
  },
  {
   "cell_type": "code",
   "execution_count": null,
   "metadata": {
    "scrolled": true
   },
   "outputs": [],
   "source": [
    "res[res['task'] == 'log_GFP']"
   ]
  }
 ],
 "metadata": {
  "kernelspec": {
   "display_name": "Python 3",
   "language": "python",
   "name": "python3"
  },
  "language_info": {
   "codemirror_mode": {
    "name": "ipython",
    "version": 3
   },
   "file_extension": ".py",
   "mimetype": "text/x-python",
   "name": "python",
   "nbconvert_exporter": "python",
   "pygments_lexer": "ipython3",
   "version": "3.7.4"
  }
 },
 "nbformat": 4,
 "nbformat_minor": 2
}
