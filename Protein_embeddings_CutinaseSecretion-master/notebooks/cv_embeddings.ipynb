{
 "cells": [
  {
   "cell_type": "markdown",
   "metadata": {},
   "source": [
    "20-fold cross-validation on all embeddings for each task. "
   ]
  },
  {
   "cell_type": "code",
   "execution_count": 4,
   "metadata": {},
   "outputs": [],
   "source": [
    "import sys\n",
    "import os\n",
    "import pickle\n",
    "\n",
    "import numpy as np\n",
    "import pandas as pd\n",
    "from scipy import stats\n",
    "from sklearn import metrics, model_selection\n",
    "\n",
    "module_path = os.path.abspath(os.path.join('..'))\n",
    "if module_path not in sys.path:\n",
    "    sys.path.append(module_path+\"/src\")\n",
    "from embeddings_reproduction import gpm\n",
    "from embeddings_reproduction import gpk"
   ]
  },
  {
   "cell_type": "code",
   "execution_count": 5,
   "metadata": {},
   "outputs": [],
   "source": [
    "# assert np.__version__ == '1.13.1'\n",
    "# assert pd.__version__ == '0.20.3'"
   ]
  },
  {
   "cell_type": "code",
   "execution_count": 6,
   "metadata": {},
   "outputs": [],
   "source": [
    "def select_X_and_Y(df, all_X, y_column):\n",
    "    not_dropped = ~pd.isnull(df[y_column])\n",
    "    not_dropped = pd.Series(not_dropped, index=df.index)\n",
    "    Ys = df[not_dropped][y_column]\n",
    "    Ys.index = df[not_dropped]['name'].index\n",
    "    #print(Ys)\n",
    "    Xs = all_X.loc[Ys.index]\n",
    "    \n",
    "    #print(Xs)\n",
    "    return Xs, Ys\n",
    "\n",
    "def score(Y, pred_Y, pred_var):\n",
    "    r1 = stats.rankdata(Y)\n",
    "    r2 = stats.rankdata(pred_Y)\n",
    "    scores = {}\n",
    "    scores['kendalltau'] = stats.kendalltau(r1, r2).correlation\n",
    "    scores['R2'] = metrics.r2_score(Y, pred_Y)\n",
    "    scores['SE'] = metrics.mean_squared_error(Y, pred_Y)\n",
    "    scores['R'] = np.corrcoef(Y, pred_Y)[0, 1]\n",
    "    log_ps = -0.5 * np.log(pred_var) - (pred_Y - Y)**2 / 2 / pred_var\n",
    "    log_ps -= 0.5 * np.log(2 * np.pi)\n",
    "    scores['log_loss'] = -np.sum(log_ps)\n",
    "    return scores\n",
    "\n",
    "def cross_validate(y_col, df, e_dir, fname):\n",
    "    with open(fname, 'w') as f:\n",
    "        f.write('task,embedding,kernel,R,R2,kendalltau,log_loss,SE\\n')\n",
    "    for embed in os.listdir(e_dir):\n",
    "        if embed[0] != 'X':\n",
    "            continue\n",
    "        with open(e_dir + embed, 'rb') as f:\n",
    "            e_X = pickle.load(f)\n",
    "        if len(e_X) == 2:\n",
    "            e_X = e_X[0]\n",
    "        #print(e_X)\n",
    "        #print(df)\n",
    "        X, y = select_X_and_Y(df, e_X, y_col)\n",
    "        X = X.values\n",
    "        y = y.values\n",
    "        # Cross-validation predictions\n",
    "        kf = model_selection.KFold(n_splits=20, shuffle=True, random_state=10)\n",
    "        y_actual = []\n",
    "        mu_val = {'cubic':[], 'Matern5/2':[]}\n",
    "        var_val = {'cubic':[], 'Matern5/2':[]}\n",
    "        mu_test = {}\n",
    "        var_test = {}\n",
    "        for i_train, i_val in kf.split(X):\n",
    "            X_ = X[i_train]\n",
    "            y_ = y[i_train]\n",
    "            X_val = X[i_val]\n",
    "            y_val = y[i_val]\n",
    "            y_actual.append(y_val)\n",
    "            k = gpk.MaternKernel('5/2')\n",
    "            kernel = 'Matern5/2'\n",
    "            clf = gpm.GPRegressor(k, gueses=(10, 100))\n",
    "            clf.fit(X_, y_)\n",
    "            mu, var = clf.predict(X_val)\n",
    "            mu_val[kernel].append(mu)\n",
    "            var_val[kernel].append(np.diag(var))\n",
    "        y_actual = np.concatenate(y_actual)\n",
    "        mu_val['Matern5/2'] = np.concatenate(mu_val['Matern5/2'])\n",
    "        var_val['Matern5/2'] = np.concatenate(var_val['Matern5/2'])\n",
    "        kernels = ['Matern5/2']\n",
    "        val_scores_dict = {k:score(y_actual, mu_val[k], var_val[k]) for k in kernels}                            \n",
    "        # Write to file\n",
    "        for kernel in kernels:\n",
    "            with open(fname, 'a') as f:\n",
    "                scores = val_scores_dict[kernel]\n",
    "                f.write(','.join([y_col, embed, kernel, str(scores['R']),\n",
    "                                 str(scores['R2']), str(scores['kendalltau']),\n",
    "                                 str(scores['log_loss']), str(scores['SE'])]))\n",
    "                f.write('\\n')"
   ]
  },
  {
   "cell_type": "markdown",
   "metadata": {},
   "source": [
    "## SP Secretion CUT ALIGNED "
   ]
  },
  {
   "cell_type": "code",
   "execution_count": 7,
   "metadata": {},
   "outputs": [
    {
     "name": "stdout",
     "output_type": "stream",
     "text": [
      "CPU times: user 12min 9s, sys: 37min 55s, total: 50min 4s\n",
      "Wall time: 5min\n"
     ]
    }
   ],
   "source": [
    "y_col = 'cut_secreted'\n",
    "dataset = '../inputs/cut_align_sp_secretion.txt'\n",
    "e_dir = '../outputs/cut_align_sp_secretion_embeddings/'\n",
    "fname = '../outputs/cv_cut_align_sp_secretion.txt'\n",
    "\n",
    "df = pd.read_csv(dataset)\n",
    "    \n",
    "%time cross_validate(y_col, df[df.is_train], e_dir, fname)"
   ]
  },
  {
   "cell_type": "code",
   "execution_count": 9,
   "metadata": {},
   "outputs": [],
   "source": [
    "## SP+Cutinase Secretion "
   ]
  },
  {
   "cell_type": "code",
   "execution_count": 10,
   "metadata": {},
   "outputs": [
    {
     "name": "stdout",
     "output_type": "stream",
     "text": [
      "CPU times: user 41min 44s, sys: 1h 40min 25s, total: 2h 22min 9s\n",
      "Wall time: 7min 6s\n"
     ]
    }
   ],
   "source": [
    "y_col = 'cut_secreted'\n",
    "dataset = '../inputs/sp_secretion.txt'\n",
    "e_dir = '../outputs/sp_secretion_embeddings/'\n",
    "fname = '../outputs/cv_sp_secretion.txt'\n",
    "\n",
    "df = pd.read_csv(dataset)\n",
    "    \n",
    "%time cross_validate(y_col, df[df.is_train], e_dir, fname)"
   ]
  }
 ],
 "metadata": {
  "kernelspec": {
   "display_name": "Python 3",
   "language": "python",
   "name": "python3"
  },
  "language_info": {
   "codemirror_mode": {
    "name": "ipython",
    "version": 3
   },
   "file_extension": ".py",
   "mimetype": "text/x-python",
   "name": "python",
   "nbconvert_exporter": "python",
   "pygments_lexer": "ipython3",
   "version": "3.6.1"
  }
 },
 "nbformat": 4,
 "nbformat_minor": 4
}
