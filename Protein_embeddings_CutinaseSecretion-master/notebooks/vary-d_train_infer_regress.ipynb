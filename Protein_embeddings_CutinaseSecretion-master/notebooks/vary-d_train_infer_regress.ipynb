{
 "cells": [
  {
   "cell_type": "markdown",
   "metadata": {},
   "source": [
    "Train models that have different dimensionality, infer embeddings, and then calculate test metrics. "
   ]
  },
  {
   "cell_type": "code",
   "execution_count": 11,
   "metadata": {},
   "outputs": [],
   "source": [
    "import sys\n",
    "import multiprocessing\n",
    "import os\n",
    "import pickle\n",
    "import random\n",
    "\n",
    "import gensim\n",
    "import numpy as np\n",
    "import pandas as pd\n",
    "import matplotlib.pyplot as plt\n",
    "import seaborn as sns\n",
    "from gensim.models.doc2vec import Doc2Vec, TaggedDocument\n",
    "from sklearn import model_selection\n",
    "from scipy import stats\n",
    "from sklearn import metrics\n",
    "\n",
    "module_path = os.path.abspath(os.path.join('..'))\n",
    "if module_path not in sys.path:\n",
    "    sys.path.append(module_path+\"/gpmodel-master\")\n",
    "\n",
    "from gpmodel import gpmodel \n",
    "from gpmodel import gpkernel\n",
    "from gpmodel import gptools\n",
    "\n",
    "module_path = os.path.abspath(os.path.join('..'))\n",
    "if module_path not in sys.path:\n",
    "    sys.path.append(module_path+\"/src\")\n",
    "    \n",
    "from embeddings_reproduction import embedding_tools"
   ]
  },
  {
   "cell_type": "code",
   "execution_count": 12,
   "metadata": {},
   "outputs": [],
   "source": [
    "%matplotlib inline"
   ]
  },
  {
   "cell_type": "code",
   "execution_count": 13,
   "metadata": {},
   "outputs": [],
   "source": [
    "sns.set_style('white')\n",
    "sns.set_context('paper')"
   ]
  },
  {
   "cell_type": "code",
   "execution_count": 14,
   "metadata": {},
   "outputs": [],
   "source": [
    "# Plot adjustments:\n",
    "plt.rcParams.update({'ytick.labelsize': 20})\n",
    "plt.rcParams.update({'xtick.labelsize': 20})\n",
    "plt.rcParams.update({'axes.labelsize': 25})\n",
    "plt.rcParams.update({'legend.fontsize': 20})\n",
    "plt.rcParams.update({'axes.titlesize': 25})\n",
    "\n",
    "plt.rcParams.update({'axes.grid': False})"
   ]
  },
  {
   "cell_type": "code",
   "execution_count": 15,
   "metadata": {},
   "outputs": [],
   "source": [
    "# assert gensim.__version__ == '1.0.1'\n",
    "# assert np.__version__ == '1.13.1'\n",
    "# assert pd.__version__ == '0.20.3'"
   ]
  },
  {
   "cell_type": "code",
   "execution_count": 16,
   "metadata": {},
   "outputs": [],
   "source": [
    "sequence_dict = {}\n",
    "sequence_dict['small'] = pd.read_csv('../inputs/small_uniprot.txt')\n",
    "sequence_dict['original'] = pd.read_csv('../inputs/original.txt', comment='#')\n",
    "#sequence_dict['scrambled'] = pd.read_csv('../inputs/r1.txt')\n",
    "#sequence_dict['random'] = pd.read_csv('../inputs/r2.txt')\n",
    "#sequence_dict['uniform'] = pd.read_csv('../inputs/r3.txt')"
   ]
  },
  {
   "cell_type": "code",
   "execution_count": 17,
   "metadata": {},
   "outputs": [],
   "source": [
    "tasks = ['cut_secreted']\n",
    "hypers = [('original', 4, 3)]\n",
    "dims = (4, 8, 16, 32, 96)#, 128)"
   ]
  },
  {
   "cell_type": "code",
   "execution_count": 18,
   "metadata": {},
   "outputs": [],
   "source": [
    "def train(X, k, window, dim):\n",
    "    name_list = [X, str(k), str(window), str(dim)]\n",
    "    print('X\\t\\tk\\twindow\\tdim')\n",
    "    print(name_list[0] + '\\t' + '\\t'.join(name_list[1:]))\n",
    "    if os.path.isfile('../outputs/augmented_models/' + '_'.join(name_list) + '.pkl'):\n",
    "        return\n",
    "    kmer_hypers = {'k':k, \n",
    "                   'overlap':False,\n",
    "                   'merge':False}\n",
    "    model_hypers = {'vector_size': dim,\n",
    "                    'min_count': 0,\n",
    "                    'epochs': 25,\n",
    "                    'window':window,\n",
    "                    'workers': 2}\n",
    "    documents = embedding_tools.Corpus(sequence_dict[X], kmer_hypers)\n",
    "    model = Doc2Vec(**model_hypers)\n",
    "    model.build_vocab(documents)\n",
    "    %time model.train(documents,total_examples = 1000, epochs=25)\n",
    "    model.save('../outputs/augmented_models/' + '_'.join(name_list) + '.pkl')"
   ]
  },
  {
   "cell_type": "code",
   "execution_count": 19,
   "metadata": {},
   "outputs": [
    {
     "name": "stdout",
     "output_type": "stream",
     "text": [
      "X\t\tk\twindow\tdim\n",
      "original\t4\t3\t4\n",
      "X\t\tk\twindow\tdim\n",
      "original\t4\t3\t8\n",
      "X\t\tk\twindow\tdim\n",
      "original\t4\t3\t16\n",
      "X\t\tk\twindow\tdim\n",
      "original\t4\t3\t32\n",
      "X\t\tk\twindow\tdim\n",
      "original\t4\t3\t96\n"
     ]
    }
   ],
   "source": [
    "for X, k, w in hypers:\n",
    "    for dim in dims:\n",
    "        train(X, k, w, dim)"
   ]
  },
  {
   "cell_type": "code",
   "execution_count": 20,
   "metadata": {},
   "outputs": [
    {
     "data": {
      "text/plain": [
       "'small_4_3_8.pkl'"
      ]
     },
     "execution_count": 20,
     "metadata": {},
     "output_type": "execute_result"
    }
   ],
   "source": [
    "models = os.listdir('../outputs/augmented_models/')\n",
    "models = [m for m in models if m[-3:] == 'pkl']\n",
    "models[0]"
   ]
  },
  {
   "cell_type": "code",
   "execution_count": 21,
   "metadata": {},
   "outputs": [],
   "source": [
    "dfs = {}\n",
    "dfs['cut_secreted'] = pd.read_csv('../inputs/cut_align_sp_secretion.txt')\n",
    "#dfs['cut_secreted'] = pd.read_csv('../inputs/sp_secretion.txt')\n",
    "\n",
    "\n",
    "dirs = {}\n",
    "dirs['cut_secreted'] = '../outputs/cut_align_sp_secretion_d_embeddings/'\n",
    "#dirs['cut_secreted'] = '../outputs/sp_secretion_d_embeddings/'\n"
   ]
  },
  {
   "cell_type": "code",
   "execution_count": 22,
   "metadata": {},
   "outputs": [
    {
     "name": "stdout",
     "output_type": "stream",
     "text": [
      "original_4_3\n",
      "Model original_4_3_16.pkl for dataset cut_secreted:\n",
      "Inferring...\n"
     ]
    },
    {
     "name": "stderr",
     "output_type": "stream",
     "text": [
      "/home/apps/software/Python/3.6.1-IGB-gcc-4.9.4/lib/python3.6/site-packages/smart_open/smart_open_lib.py:398: UserWarning: This function is deprecated, use smart_open.open instead. See the migration notes for details: https://github.com/RaRe-Technologies/smart_open/blob/master/README.rst#migrating-to-the-new-open-function\n",
      "  'See the migration notes for details: %s' % _MIGRATION_NOTES_URL\n"
     ]
    },
    {
     "name": "stdout",
     "output_type": "stream",
     "text": [
      "CPU times: user 11.4 s, sys: 172 ms, total: 11.5 s\n",
      "Wall time: 13.2 s\n",
      "Success!\n",
      "Model original_4_3_4.pkl for dataset cut_secreted:\n",
      "Inferring...\n"
     ]
    },
    {
     "name": "stderr",
     "output_type": "stream",
     "text": [
      "/home/apps/software/Python/3.6.1-IGB-gcc-4.9.4/lib/python3.6/site-packages/smart_open/smart_open_lib.py:398: UserWarning: This function is deprecated, use smart_open.open instead. See the migration notes for details: https://github.com/RaRe-Technologies/smart_open/blob/master/README.rst#migrating-to-the-new-open-function\n",
      "  'See the migration notes for details: %s' % _MIGRATION_NOTES_URL\n"
     ]
    },
    {
     "name": "stdout",
     "output_type": "stream",
     "text": [
      "CPU times: user 10 s, sys: 140 ms, total: 10.2 s\n",
      "Wall time: 10.8 s\n",
      "Success!\n",
      "Model original_4_3_96.pkl for dataset cut_secreted:\n",
      "Inferring...\n"
     ]
    },
    {
     "name": "stderr",
     "output_type": "stream",
     "text": [
      "/home/apps/software/Python/3.6.1-IGB-gcc-4.9.4/lib/python3.6/site-packages/smart_open/smart_open_lib.py:398: UserWarning: This function is deprecated, use smart_open.open instead. See the migration notes for details: https://github.com/RaRe-Technologies/smart_open/blob/master/README.rst#migrating-to-the-new-open-function\n",
      "  'See the migration notes for details: %s' % _MIGRATION_NOTES_URL\n"
     ]
    },
    {
     "name": "stdout",
     "output_type": "stream",
     "text": [
      "CPU times: user 12 s, sys: 712 ms, total: 12.7 s\n",
      "Wall time: 21 s\n",
      "Success!\n",
      "Model original_4_3_32.pkl for dataset cut_secreted:\n",
      "Inferring...\n"
     ]
    },
    {
     "name": "stderr",
     "output_type": "stream",
     "text": [
      "/home/apps/software/Python/3.6.1-IGB-gcc-4.9.4/lib/python3.6/site-packages/smart_open/smart_open_lib.py:398: UserWarning: This function is deprecated, use smart_open.open instead. See the migration notes for details: https://github.com/RaRe-Technologies/smart_open/blob/master/README.rst#migrating-to-the-new-open-function\n",
      "  'See the migration notes for details: %s' % _MIGRATION_NOTES_URL\n"
     ]
    },
    {
     "name": "stdout",
     "output_type": "stream",
     "text": [
      "CPU times: user 10.5 s, sys: 298 ms, total: 10.8 s\n",
      "Wall time: 14 s\n",
      "Success!\n",
      "Model original_4_3_8.pkl for dataset cut_secreted:\n",
      "Inferring...\n"
     ]
    },
    {
     "name": "stderr",
     "output_type": "stream",
     "text": [
      "/home/apps/software/Python/3.6.1-IGB-gcc-4.9.4/lib/python3.6/site-packages/smart_open/smart_open_lib.py:398: UserWarning: This function is deprecated, use smart_open.open instead. See the migration notes for details: https://github.com/RaRe-Technologies/smart_open/blob/master/README.rst#migrating-to-the-new-open-function\n",
      "  'See the migration notes for details: %s' % _MIGRATION_NOTES_URL\n"
     ]
    },
    {
     "name": "stdout",
     "output_type": "stream",
     "text": [
      "CPU times: user 10.3 s, sys: 110 ms, total: 10.4 s\n",
      "Wall time: 11.3 s\n",
      "Success!\n",
      "Model original_4_3_128.pkl for dataset cut_secreted:\n",
      "Inferring...\n"
     ]
    },
    {
     "name": "stderr",
     "output_type": "stream",
     "text": [
      "/home/apps/software/Python/3.6.1-IGB-gcc-4.9.4/lib/python3.6/site-packages/smart_open/smart_open_lib.py:398: UserWarning: This function is deprecated, use smart_open.open instead. See the migration notes for details: https://github.com/RaRe-Technologies/smart_open/blob/master/README.rst#migrating-to-the-new-open-function\n",
      "  'See the migration notes for details: %s' % _MIGRATION_NOTES_URL\n"
     ]
    },
    {
     "name": "stdout",
     "output_type": "stream",
     "text": [
      "CPU times: user 13.8 s, sys: 1.09 s, total: 14.9 s\n",
      "Wall time: 25.2 s\n",
      "Success!\n"
     ]
    }
   ],
   "source": [
    "def infer_vectors(df, model, k, dest, overlap=False, method=None):       \n",
    "    seqs = embedding_tools.get_seqs(df)\n",
    "    if method is not None:\n",
    "        seqs = embedding_tools.randomize_seqs(seqs, method=method)\n",
    "    embeds = embedding_tools.get_embeddings_new(model, seqs, k=k,\n",
    "                                                overlap=overlap)\n",
    "    embeds = pd.DataFrame(embeds, index=df.name)\n",
    "    terms = list(range(embeds.shape[1]))\n",
    "    name = model.split('/')[-1]\n",
    "    with open(dest + 'X_' + name, 'wb') as f:\n",
    "        pickle.dump((embeds, terms), f)\n",
    "        \n",
    "for i, t in enumerate(tasks):\n",
    "    #print(t)\n",
    "    #print(i)\n",
    "    Xs = os.listdir(dirs[t])\n",
    "\n",
    "    name = '_'.join([str(h) for h in hypers[0]])\n",
    "    print(name)\n",
    "    for model in models:\n",
    "        if name not in model:\n",
    "            continue\n",
    "        if 'X_' + model in Xs:\n",
    "            continue\n",
    "        print('Model ' + model + ' for dataset ' + t + ':')\n",
    "        k = int(model.split('_')[1])\n",
    "        print('Inferring...')\n",
    "        #a = %pwd\n",
    "        #print(a)\n",
    "        %time infer_vectors(dfs[t], '../outputs/augmented_models/' + model, k, dirs[t])\n",
    "        print('Success!')"
   ]
  },
  {
   "cell_type": "code",
   "execution_count": 23,
   "metadata": {},
   "outputs": [],
   "source": [
    "def select_X_and_Y(df, all_X, y_column):\n",
    "    not_dropped = ~pd.isnull(df[y_column])\n",
    "    not_dropped = pd.Series(not_dropped, index=df.index)\n",
    "    Ys = df[not_dropped][y_column]\n",
    "    Ys.index = df[not_dropped]['name']\n",
    "    Xs = all_X.loc[Ys.index]\n",
    "    return Xs, Ys\n",
    "\n",
    "def score(Y, pred_Y, pred_var):\n",
    "    r1 = stats.rankdata(Y)\n",
    "    r2 = stats.rankdata(pred_Y)\n",
    "    scores = {}\n",
    "    scores['kendalltau'] = stats.kendalltau(r1, r2).correlation\n",
    "    scores['R2'] = metrics.r2_score(Y, pred_Y)\n",
    "    scores['mae'] = metrics.mean_absolute_error(Y, pred_Y)\n",
    "    scores['SE'] = metrics.mean_squared_error(Y, pred_Y)\n",
    "    scores['R'] = np.corrcoef(Y, pred_Y)[0, 1]\n",
    "    log_ps = -0.5 * np.log(pred_var) - (pred_Y - Y)**2 / 2 / pred_var\n",
    "    log_ps -= 0.5 * np.log(2 * np.pi)\n",
    "    scores['log_loss'] = -np.sum(log_ps)\n",
    "    return scores\n",
    "\n",
    "def evaluate(df_train, df_test, X, task, X_name, guesses=None, kernel='matern'):\n",
    "    X_train, y_train = select_X_and_Y(df_train, X, task)\n",
    "    X_test, y_test = select_X_and_Y(df_test, X, task)\n",
    "    n_train, d = X_train.shape\n",
    "    n_test, d = X_test.shape\n",
    "    if kernel == 'matern':\n",
    "        k = gpkernel.MaternKernel('5/2')\n",
    "    if kernel == 'cubic':\n",
    "        k = gpkernel.PolynomialKernel(3)\n",
    "    clf = gpmodel.GPRegressor(k, guesses=guesses)\n",
    "    clf.fit(X_train, y_train)\n",
    "    print(X_name)\n",
    "    print(clf.hypers)\n",
    "    mu, var = clf.predict(X_test)\n",
    "    met1 = score(y_test, mu, np.diag(var))\n",
    "    met1['task'] = task\n",
    "    met1['X'] = X_name\n",
    "    met1['d'] = int((X_name.split('.')[0]).split('_')[-1])\n",
    "    met1['n_train'] = n_train\n",
    "    met1['n_test'] = n_test\n",
    "    met1['kernel'] = kernel\n",
    "    met1 = pd.DataFrame(met1, index=[0])\n",
    "    return met1, mu"
   ]
  },
  {
   "cell_type": "code",
   "execution_count": 24,
   "metadata": {},
   "outputs": [
    {
     "name": "stdout",
     "output_type": "stream",
     "text": [
      "X_original_4_3_128\n",
      "[1.00806061 9.99994522]\n",
      "X_original_4_3_8\n",
      "[  1.0086187  280.54217439]\n",
      "X_original_4_3_4\n",
      "[  1.00854905 293.72142831]\n",
      "X_original_4_3_16\n",
      "[0.97823911 3.24365984]\n",
      "X_original_4_3_96\n",
      "[1.00770176 9.99980925]\n",
      "X_original_4_3_32\n",
      "[0.93323025 1.48587969]\n"
     ]
    },
    {
     "data": {
      "text/html": [
       "<div>\n",
       "<style scoped>\n",
       "    .dataframe tbody tr th:only-of-type {\n",
       "        vertical-align: middle;\n",
       "    }\n",
       "\n",
       "    .dataframe tbody tr th {\n",
       "        vertical-align: top;\n",
       "    }\n",
       "\n",
       "    .dataframe thead th {\n",
       "        text-align: right;\n",
       "    }\n",
       "</style>\n",
       "<table border=\"1\" class=\"dataframe\">\n",
       "  <thead>\n",
       "    <tr style=\"text-align: right;\">\n",
       "      <th></th>\n",
       "      <th>kendalltau</th>\n",
       "      <th>R2</th>\n",
       "      <th>mae</th>\n",
       "      <th>SE</th>\n",
       "      <th>R</th>\n",
       "      <th>log_loss</th>\n",
       "      <th>task</th>\n",
       "      <th>X</th>\n",
       "      <th>d</th>\n",
       "      <th>n_train</th>\n",
       "      <th>n_test</th>\n",
       "      <th>kernel</th>\n",
       "    </tr>\n",
       "  </thead>\n",
       "  <tbody>\n",
       "    <tr>\n",
       "      <th>0</th>\n",
       "      <td>-0.080696</td>\n",
       "      <td>-0.007709</td>\n",
       "      <td>0.895709</td>\n",
       "      <td>0.990135</td>\n",
       "      <td>-0.131585</td>\n",
       "      <td>1346.455375</td>\n",
       "      <td>cut_secreted</td>\n",
       "      <td>X_original_4_3_128</td>\n",
       "      <td>128</td>\n",
       "      <td>117</td>\n",
       "      <td>31</td>\n",
       "      <td>matern</td>\n",
       "    </tr>\n",
       "    <tr>\n",
       "      <th>1</th>\n",
       "      <td>0.053798</td>\n",
       "      <td>-0.007498</td>\n",
       "      <td>0.895495</td>\n",
       "      <td>0.989927</td>\n",
       "      <td>0.180884</td>\n",
       "      <td>1439.955840</td>\n",
       "      <td>cut_secreted</td>\n",
       "      <td>X_original_4_3_8</td>\n",
       "      <td>8</td>\n",
       "      <td>117</td>\n",
       "      <td>31</td>\n",
       "      <td>matern</td>\n",
       "    </tr>\n",
       "    <tr>\n",
       "      <th>2</th>\n",
       "      <td>0.170359</td>\n",
       "      <td>-0.007501</td>\n",
       "      <td>0.895497</td>\n",
       "      <td>0.989930</td>\n",
       "      <td>0.133920</td>\n",
       "      <td>1439.596555</td>\n",
       "      <td>cut_secreted</td>\n",
       "      <td>X_original_4_3_4</td>\n",
       "      <td>4</td>\n",
       "      <td>117</td>\n",
       "      <td>31</td>\n",
       "      <td>matern</td>\n",
       "    </tr>\n",
       "    <tr>\n",
       "      <th>3</th>\n",
       "      <td>0.197258</td>\n",
       "      <td>0.046959</td>\n",
       "      <td>0.870080</td>\n",
       "      <td>0.936420</td>\n",
       "      <td>0.421590</td>\n",
       "      <td>330.150554</td>\n",
       "      <td>cut_secreted</td>\n",
       "      <td>X_original_4_3_16</td>\n",
       "      <td>16</td>\n",
       "      <td>117</td>\n",
       "      <td>31</td>\n",
       "      <td>matern</td>\n",
       "    </tr>\n",
       "    <tr>\n",
       "      <th>4</th>\n",
       "      <td>-0.031382</td>\n",
       "      <td>-0.007619</td>\n",
       "      <td>0.895743</td>\n",
       "      <td>0.990046</td>\n",
       "      <td>-0.037323</td>\n",
       "      <td>1312.166835</td>\n",
       "      <td>cut_secreted</td>\n",
       "      <td>X_original_4_3_96</td>\n",
       "      <td>96</td>\n",
       "      <td>117</td>\n",
       "      <td>31</td>\n",
       "      <td>matern</td>\n",
       "    </tr>\n",
       "  </tbody>\n",
       "</table>\n",
       "</div>"
      ],
      "text/plain": [
       "   kendalltau        R2       mae        SE         R     log_loss  \\\n",
       "0   -0.080696 -0.007709  0.895709  0.990135 -0.131585  1346.455375   \n",
       "1    0.053798 -0.007498  0.895495  0.989927  0.180884  1439.955840   \n",
       "2    0.170359 -0.007501  0.895497  0.989930  0.133920  1439.596555   \n",
       "3    0.197258  0.046959  0.870080  0.936420  0.421590   330.150554   \n",
       "4   -0.031382 -0.007619  0.895743  0.990046 -0.037323  1312.166835   \n",
       "\n",
       "           task                   X    d  n_train  n_test  kernel  \n",
       "0  cut_secreted  X_original_4_3_128  128      117      31  matern  \n",
       "1  cut_secreted    X_original_4_3_8    8      117      31  matern  \n",
       "2  cut_secreted    X_original_4_3_4    4      117      31  matern  \n",
       "3  cut_secreted   X_original_4_3_16   16      117      31  matern  \n",
       "4  cut_secreted   X_original_4_3_96   96      117      31  matern  "
      ]
     },
     "execution_count": 24,
     "metadata": {},
     "output_type": "execute_result"
    }
   ],
   "source": [
    "fname = '../outputs/vary_d_test_4_3_cut_align.txt'\n",
    "res = pd.DataFrame(index=[])\n",
    "\n",
    "for t in tasks:\n",
    "    df = dfs[t]\n",
    "    e_dir = dirs[t]\n",
    "    df_test = df[~df.is_train]\n",
    "    df_train = df[df.is_train]\n",
    "\n",
    "    # Embedding\n",
    "    Xs = os.listdir(e_dir)\n",
    "    for emb in Xs:\n",
    "        with open(e_dir + emb, 'rb')  as f:\n",
    "            X = pickle.load(f)\n",
    "        if len(X) == 2:\n",
    "            X = X[0]\n",
    "        evals, mu = evaluate(df_train, df_test, X, t, emb[:-4], guesses=(0.1, 10))\n",
    "        res = pd.concat((res, evals), ignore_index=True)\n",
    "res.head()"
   ]
  },
  {
   "cell_type": "code",
   "execution_count": 25,
   "metadata": {},
   "outputs": [],
   "source": [
    "res.to_csv(fname, index=False)"
   ]
  },
  {
   "cell_type": "code",
   "execution_count": 27,
   "metadata": {},
   "outputs": [
    {
     "data": {
      "image/png": "[encoded data removed]",
      "text/plain": [
       "<Figure size 1152x504 with 2 Axes>"
      ]
     },
     "metadata": {},
     "output_type": "display_data"
    }
   ],
   "source": [
    "labels = ['cut_align_sp_secretion']\n",
    "markers = ['-o']\n",
    "\n",
    "fig, axs = plt.subplots(1, 2, figsize=(16, 7))\n",
    "\n",
    "for t, la, ma in zip(tasks, labels, markers):\n",
    "    df_lim = res[res['task'] == t]\n",
    "    df_lim = df_lim.sort_values('d')\n",
    "    for i, metric in enumerate(['kendalltau', 'mae']):\n",
    "        _ = axs[i].plot(df_lim['d'], df_lim[metric], ma, label=la, alpha=0.8, ms=12)\n",
    "        _ = axs[i].legend()\n",
    "        _ = axs[i].set_xlabel('# of embedding dimensions')\n",
    "\n",
    "_ = axs[0].set_ylabel(r'$\\tau$')\n",
    "_ = axs[1].set_ylabel('MAE')\n",
    "\n",
    "#_ = fig.savefig('revised_paper_figs/vary_d_curve.pdf', bbox_inches='tight')"
   ]
  },
  {
   "cell_type": "code",
   "execution_count": null,
   "metadata": {},
   "outputs": [],
   "source": []
  }
 ],
 "metadata": {
  "kernelspec": {
   "display_name": "Python 3",
   "language": "python",
   "name": "python3"
  },
  "language_info": {
   "codemirror_mode": {
    "name": "ipython",
    "version": 3
   },
   "file_extension": ".py",
   "mimetype": "text/x-python",
   "name": "python",
   "nbconvert_exporter": "python",
   "pygments_lexer": "ipython3",
   "version": "3.6.1"
  }
 },
 "nbformat": 4,
 "nbformat_minor": 4
}
