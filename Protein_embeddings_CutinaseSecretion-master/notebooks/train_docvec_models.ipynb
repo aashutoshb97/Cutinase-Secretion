{
 "cells": [
  {
   "cell_type": "code",
   "execution_count": 15,
   "metadata": {},
   "outputs": [],
   "source": [
    "import sys\n",
    "import multiprocessing\n",
    "import os\n",
    "import pickle\n",
    "import random\n",
    "\n",
    "import gensim\n",
    "import numpy as np\n",
    "import pandas as pd\n",
    "from gensim.models.doc2vec import Doc2Vec, TaggedDocument\n",
    "\n",
    "module_path = os.path.abspath(os.path.join('..'))\n",
    "if module_path not in sys.path:\n",
    "    sys.path.append(module_path+\"/src\")\n",
    "from embeddings_reproduction import embedding_tools"
   ]
  },
  {
   "cell_type": "code",
   "execution_count": 16,
   "metadata": {},
   "outputs": [],
   "source": [
    "# assert gensim.__version__ == '1.0.1'\n",
    "# assert np.__version__ == '1.13.1'\n",
    "# assert pd.__version__ == '0.20.3'"
   ]
  },
  {
   "cell_type": "code",
   "execution_count": 17,
   "metadata": {},
   "outputs": [],
   "source": [
    "sequence_dict = {}\n",
    "#sequence_dict['small'] = pd.read_csv('../inputs/small_uniprot.txt')\n",
    "#sequence_dict['original'] = pd.read_csv('../inputs/original.txt', comment='#')"
   ]
  },
  {
   "cell_type": "code",
   "execution_count": 19,
   "metadata": {},
   "outputs": [],
   "source": [
    "sequence_dict['only_sp_secretion_rem1_data'] = pd.read_csv('../inputs/only_sp_secretion_rem1.txt')\n",
    "#sequence_dict['sp_secretion_data'] = pd.read_csv('../inputs/sp_secretion.txt')"
   ]
  },
  {
   "cell_type": "code",
   "execution_count": 21,
   "metadata": {},
   "outputs": [],
   "source": [
    "def train(X, k, window):\n",
    "    name_list = [X, str(k), str(window)]\n",
    "    if os.path.isfile('../outputs/docvec_models/' + '_'.join(name_list) + '.pkl'):\n",
    "        return\n",
    "    print('X\\t\\tk\\twindow')\n",
    "    print(name_list[0] + '\\t\\t' + '\\t'.join(name_list[1:]))\n",
    "    kmer_hypers = {'k':k, \n",
    "                   'overlap':False,\n",
    "                   'merge':False}\n",
    "    model_hypers = {'vector_size': 8,\n",
    "                    'min_count': 0,\n",
    "                    'epochs': 25,\n",
    "                    'window':window,\n",
    "                    'workers': 4}\n",
    "    documents = embedding_tools.Corpus(sequence_dict[X], kmer_hypers)\n",
    "    print(documents)\n",
    "    len(sequence_dict)\n",
    "    model = Doc2Vec(**model_hypers)\n",
    "    model.build_vocab(documents)\n",
    "    model.train(documents,total_examples=1000, epochs=25)\n",
    "    model.save('../outputs/docvec_models/' + '_'.join(name_list) + '.pkl')"
   ]
  },
  {
   "cell_type": "code",
   "execution_count": 22,
   "metadata": {},
   "outputs": [
    {
     "name": "stdout",
     "output_type": "stream",
     "text": [
      "X\t\tk\twindow\n",
      "only_sp_secretion_rem1_data\t\t1\t1\n",
      "<embeddings_reproduction.embedding_tools.Corpus object at 0x2b787d846978>\n"
     ]
    },
    {
     "name": "stderr",
     "output_type": "stream",
     "text": [
      "/home/apps/software/Python/3.6.1-IGB-gcc-4.9.4/lib/python3.6/site-packages/smart_open/smart_open_lib.py:398: UserWarning: This function is deprecated, use smart_open.open instead. See the migration notes for details: https://github.com/RaRe-Technologies/smart_open/blob/master/README.rst#migrating-to-the-new-open-function\n",
      "  'See the migration notes for details: %s' % _MIGRATION_NOTES_URL\n"
     ]
    },
    {
     "name": "stdout",
     "output_type": "stream",
     "text": [
      "X\t\tk\twindow\n",
      "only_sp_secretion_rem1_data\t\t1\t2\n",
      "<embeddings_reproduction.embedding_tools.Corpus object at 0x2b787d8f9668>\n"
     ]
    },
    {
     "name": "stderr",
     "output_type": "stream",
     "text": [
      "/home/apps/software/Python/3.6.1-IGB-gcc-4.9.4/lib/python3.6/site-packages/smart_open/smart_open_lib.py:398: UserWarning: This function is deprecated, use smart_open.open instead. See the migration notes for details: https://github.com/RaRe-Technologies/smart_open/blob/master/README.rst#migrating-to-the-new-open-function\n",
      "  'See the migration notes for details: %s' % _MIGRATION_NOTES_URL\n"
     ]
    },
    {
     "name": "stdout",
     "output_type": "stream",
     "text": [
      "X\t\tk\twindow\n",
      "only_sp_secretion_rem1_data\t\t1\t3\n",
      "<embeddings_reproduction.embedding_tools.Corpus object at 0x2b787d8f9208>\n"
     ]
    },
    {
     "name": "stderr",
     "output_type": "stream",
     "text": [
      "/home/apps/software/Python/3.6.1-IGB-gcc-4.9.4/lib/python3.6/site-packages/smart_open/smart_open_lib.py:398: UserWarning: This function is deprecated, use smart_open.open instead. See the migration notes for details: https://github.com/RaRe-Technologies/smart_open/blob/master/README.rst#migrating-to-the-new-open-function\n",
      "  'See the migration notes for details: %s' % _MIGRATION_NOTES_URL\n"
     ]
    },
    {
     "name": "stdout",
     "output_type": "stream",
     "text": [
      "X\t\tk\twindow\n",
      "only_sp_secretion_rem1_data\t\t1\t4\n",
      "<embeddings_reproduction.embedding_tools.Corpus object at 0x2b787cb8cf28>\n"
     ]
    },
    {
     "name": "stderr",
     "output_type": "stream",
     "text": [
      "/home/apps/software/Python/3.6.1-IGB-gcc-4.9.4/lib/python3.6/site-packages/smart_open/smart_open_lib.py:398: UserWarning: This function is deprecated, use smart_open.open instead. See the migration notes for details: https://github.com/RaRe-Technologies/smart_open/blob/master/README.rst#migrating-to-the-new-open-function\n",
      "  'See the migration notes for details: %s' % _MIGRATION_NOTES_URL\n"
     ]
    },
    {
     "name": "stdout",
     "output_type": "stream",
     "text": [
      "X\t\tk\twindow\n",
      "only_sp_secretion_rem1_data\t\t1\t5\n",
      "<embeddings_reproduction.embedding_tools.Corpus object at 0x2b787cb8cfd0>\n"
     ]
    },
    {
     "name": "stderr",
     "output_type": "stream",
     "text": [
      "/home/apps/software/Python/3.6.1-IGB-gcc-4.9.4/lib/python3.6/site-packages/smart_open/smart_open_lib.py:398: UserWarning: This function is deprecated, use smart_open.open instead. See the migration notes for details: https://github.com/RaRe-Technologies/smart_open/blob/master/README.rst#migrating-to-the-new-open-function\n",
      "  'See the migration notes for details: %s' % _MIGRATION_NOTES_URL\n"
     ]
    },
    {
     "name": "stdout",
     "output_type": "stream",
     "text": [
      "X\t\tk\twindow\n",
      "only_sp_secretion_rem1_data\t\t1\t6\n",
      "<embeddings_reproduction.embedding_tools.Corpus object at 0x2b787cb8cfd0>\n"
     ]
    },
    {
     "name": "stderr",
     "output_type": "stream",
     "text": [
      "/home/apps/software/Python/3.6.1-IGB-gcc-4.9.4/lib/python3.6/site-packages/smart_open/smart_open_lib.py:398: UserWarning: This function is deprecated, use smart_open.open instead. See the migration notes for details: https://github.com/RaRe-Technologies/smart_open/blob/master/README.rst#migrating-to-the-new-open-function\n",
      "  'See the migration notes for details: %s' % _MIGRATION_NOTES_URL\n"
     ]
    },
    {
     "name": "stdout",
     "output_type": "stream",
     "text": [
      "X\t\tk\twindow\n",
      "only_sp_secretion_rem1_data\t\t1\t7\n",
      "<embeddings_reproduction.embedding_tools.Corpus object at 0x2b787cb8cfd0>\n"
     ]
    },
    {
     "name": "stderr",
     "output_type": "stream",
     "text": [
      "/home/apps/software/Python/3.6.1-IGB-gcc-4.9.4/lib/python3.6/site-packages/smart_open/smart_open_lib.py:398: UserWarning: This function is deprecated, use smart_open.open instead. See the migration notes for details: https://github.com/RaRe-Technologies/smart_open/blob/master/README.rst#migrating-to-the-new-open-function\n",
      "  'See the migration notes for details: %s' % _MIGRATION_NOTES_URL\n"
     ]
    },
    {
     "name": "stdout",
     "output_type": "stream",
     "text": [
      "X\t\tk\twindow\n",
      "only_sp_secretion_rem1_data\t\t2\t1\n",
      "<embeddings_reproduction.embedding_tools.Corpus object at 0x2b787cb8cfd0>\n"
     ]
    },
    {
     "name": "stderr",
     "output_type": "stream",
     "text": [
      "/home/apps/software/Python/3.6.1-IGB-gcc-4.9.4/lib/python3.6/site-packages/smart_open/smart_open_lib.py:398: UserWarning: This function is deprecated, use smart_open.open instead. See the migration notes for details: https://github.com/RaRe-Technologies/smart_open/blob/master/README.rst#migrating-to-the-new-open-function\n",
      "  'See the migration notes for details: %s' % _MIGRATION_NOTES_URL\n"
     ]
    },
    {
     "name": "stdout",
     "output_type": "stream",
     "text": [
      "X\t\tk\twindow\n",
      "only_sp_secretion_rem1_data\t\t2\t2\n",
      "<embeddings_reproduction.embedding_tools.Corpus object at 0x2b77da7c0f28>\n"
     ]
    },
    {
     "name": "stderr",
     "output_type": "stream",
     "text": [
      "/home/apps/software/Python/3.6.1-IGB-gcc-4.9.4/lib/python3.6/site-packages/smart_open/smart_open_lib.py:398: UserWarning: This function is deprecated, use smart_open.open instead. See the migration notes for details: https://github.com/RaRe-Technologies/smart_open/blob/master/README.rst#migrating-to-the-new-open-function\n",
      "  'See the migration notes for details: %s' % _MIGRATION_NOTES_URL\n"
     ]
    },
    {
     "name": "stdout",
     "output_type": "stream",
     "text": [
      "X\t\tk\twindow\n",
      "only_sp_secretion_rem1_data\t\t2\t3\n",
      "<embeddings_reproduction.embedding_tools.Corpus object at 0x2b787d846978>\n"
     ]
    },
    {
     "name": "stderr",
     "output_type": "stream",
     "text": [
      "/home/apps/software/Python/3.6.1-IGB-gcc-4.9.4/lib/python3.6/site-packages/smart_open/smart_open_lib.py:398: UserWarning: This function is deprecated, use smart_open.open instead. See the migration notes for details: https://github.com/RaRe-Technologies/smart_open/blob/master/README.rst#migrating-to-the-new-open-function\n",
      "  'See the migration notes for details: %s' % _MIGRATION_NOTES_URL\n"
     ]
    },
    {
     "name": "stdout",
     "output_type": "stream",
     "text": [
      "X\t\tk\twindow\n",
      "only_sp_secretion_rem1_data\t\t2\t4\n",
      "<embeddings_reproduction.embedding_tools.Corpus object at 0x2b787d858320>\n"
     ]
    },
    {
     "name": "stderr",
     "output_type": "stream",
     "text": [
      "/home/apps/software/Python/3.6.1-IGB-gcc-4.9.4/lib/python3.6/site-packages/smart_open/smart_open_lib.py:398: UserWarning: This function is deprecated, use smart_open.open instead. See the migration notes for details: https://github.com/RaRe-Technologies/smart_open/blob/master/README.rst#migrating-to-the-new-open-function\n",
      "  'See the migration notes for details: %s' % _MIGRATION_NOTES_URL\n"
     ]
    },
    {
     "name": "stdout",
     "output_type": "stream",
     "text": [
      "X\t\tk\twindow\n",
      "only_sp_secretion_rem1_data\t\t2\t5\n",
      "<embeddings_reproduction.embedding_tools.Corpus object at 0x2b77da7c94a8>\n"
     ]
    },
    {
     "name": "stderr",
     "output_type": "stream",
     "text": [
      "/home/apps/software/Python/3.6.1-IGB-gcc-4.9.4/lib/python3.6/site-packages/smart_open/smart_open_lib.py:398: UserWarning: This function is deprecated, use smart_open.open instead. See the migration notes for details: https://github.com/RaRe-Technologies/smart_open/blob/master/README.rst#migrating-to-the-new-open-function\n",
      "  'See the migration notes for details: %s' % _MIGRATION_NOTES_URL\n"
     ]
    },
    {
     "name": "stdout",
     "output_type": "stream",
     "text": [
      "X\t\tk\twindow\n",
      "only_sp_secretion_rem1_data\t\t2\t6\n",
      "<embeddings_reproduction.embedding_tools.Corpus object at 0x2b77ccf34d30>\n"
     ]
    },
    {
     "name": "stderr",
     "output_type": "stream",
     "text": [
      "/home/apps/software/Python/3.6.1-IGB-gcc-4.9.4/lib/python3.6/site-packages/smart_open/smart_open_lib.py:398: UserWarning: This function is deprecated, use smart_open.open instead. See the migration notes for details: https://github.com/RaRe-Technologies/smart_open/blob/master/README.rst#migrating-to-the-new-open-function\n",
      "  'See the migration notes for details: %s' % _MIGRATION_NOTES_URL\n"
     ]
    },
    {
     "name": "stdout",
     "output_type": "stream",
     "text": [
      "X\t\tk\twindow\n",
      "only_sp_secretion_rem1_data\t\t2\t7\n",
      "<embeddings_reproduction.embedding_tools.Corpus object at 0x2b787cde0940>\n"
     ]
    },
    {
     "name": "stderr",
     "output_type": "stream",
     "text": [
      "/home/apps/software/Python/3.6.1-IGB-gcc-4.9.4/lib/python3.6/site-packages/smart_open/smart_open_lib.py:398: UserWarning: This function is deprecated, use smart_open.open instead. See the migration notes for details: https://github.com/RaRe-Technologies/smart_open/blob/master/README.rst#migrating-to-the-new-open-function\n",
      "  'See the migration notes for details: %s' % _MIGRATION_NOTES_URL\n"
     ]
    },
    {
     "name": "stdout",
     "output_type": "stream",
     "text": [
      "X\t\tk\twindow\n",
      "only_sp_secretion_rem1_data\t\t3\t1\n",
      "<embeddings_reproduction.embedding_tools.Corpus object at 0x2b787d846978>\n"
     ]
    },
    {
     "name": "stderr",
     "output_type": "stream",
     "text": [
      "/home/apps/software/Python/3.6.1-IGB-gcc-4.9.4/lib/python3.6/site-packages/smart_open/smart_open_lib.py:398: UserWarning: This function is deprecated, use smart_open.open instead. See the migration notes for details: https://github.com/RaRe-Technologies/smart_open/blob/master/README.rst#migrating-to-the-new-open-function\n",
      "  'See the migration notes for details: %s' % _MIGRATION_NOTES_URL\n"
     ]
    },
    {
     "name": "stdout",
     "output_type": "stream",
     "text": [
      "X\t\tk\twindow\n",
      "only_sp_secretion_rem1_data\t\t3\t2\n",
      "<embeddings_reproduction.embedding_tools.Corpus object at 0x2b77da7c9518>\n"
     ]
    },
    {
     "name": "stderr",
     "output_type": "stream",
     "text": [
      "/home/apps/software/Python/3.6.1-IGB-gcc-4.9.4/lib/python3.6/site-packages/smart_open/smart_open_lib.py:398: UserWarning: This function is deprecated, use smart_open.open instead. See the migration notes for details: https://github.com/RaRe-Technologies/smart_open/blob/master/README.rst#migrating-to-the-new-open-function\n",
      "  'See the migration notes for details: %s' % _MIGRATION_NOTES_URL\n"
     ]
    },
    {
     "name": "stdout",
     "output_type": "stream",
     "text": [
      "X\t\tk\twindow\n",
      "only_sp_secretion_rem1_data\t\t3\t3\n",
      "<embeddings_reproduction.embedding_tools.Corpus object at 0x2b77d993b240>\n"
     ]
    },
    {
     "name": "stderr",
     "output_type": "stream",
     "text": [
      "/home/apps/software/Python/3.6.1-IGB-gcc-4.9.4/lib/python3.6/site-packages/smart_open/smart_open_lib.py:398: UserWarning: This function is deprecated, use smart_open.open instead. See the migration notes for details: https://github.com/RaRe-Technologies/smart_open/blob/master/README.rst#migrating-to-the-new-open-function\n",
      "  'See the migration notes for details: %s' % _MIGRATION_NOTES_URL\n"
     ]
    },
    {
     "name": "stdout",
     "output_type": "stream",
     "text": [
      "X\t\tk\twindow\n",
      "only_sp_secretion_rem1_data\t\t3\t4\n",
      "<embeddings_reproduction.embedding_tools.Corpus object at 0x2b77da7bab38>\n"
     ]
    },
    {
     "name": "stderr",
     "output_type": "stream",
     "text": [
      "/home/apps/software/Python/3.6.1-IGB-gcc-4.9.4/lib/python3.6/site-packages/smart_open/smart_open_lib.py:398: UserWarning: This function is deprecated, use smart_open.open instead. See the migration notes for details: https://github.com/RaRe-Technologies/smart_open/blob/master/README.rst#migrating-to-the-new-open-function\n",
      "  'See the migration notes for details: %s' % _MIGRATION_NOTES_URL\n"
     ]
    },
    {
     "name": "stdout",
     "output_type": "stream",
     "text": [
      "X\t\tk\twindow\n",
      "only_sp_secretion_rem1_data\t\t3\t5\n",
      "<embeddings_reproduction.embedding_tools.Corpus object at 0x2b787cb8cf28>\n"
     ]
    },
    {
     "name": "stderr",
     "output_type": "stream",
     "text": [
      "/home/apps/software/Python/3.6.1-IGB-gcc-4.9.4/lib/python3.6/site-packages/smart_open/smart_open_lib.py:398: UserWarning: This function is deprecated, use smart_open.open instead. See the migration notes for details: https://github.com/RaRe-Technologies/smart_open/blob/master/README.rst#migrating-to-the-new-open-function\n",
      "  'See the migration notes for details: %s' % _MIGRATION_NOTES_URL\n"
     ]
    },
    {
     "name": "stdout",
     "output_type": "stream",
     "text": [
      "X\t\tk\twindow\n",
      "only_sp_secretion_rem1_data\t\t3\t6\n",
      "<embeddings_reproduction.embedding_tools.Corpus object at 0x2b77da7c0f28>\n"
     ]
    },
    {
     "name": "stderr",
     "output_type": "stream",
     "text": [
      "/home/apps/software/Python/3.6.1-IGB-gcc-4.9.4/lib/python3.6/site-packages/smart_open/smart_open_lib.py:398: UserWarning: This function is deprecated, use smart_open.open instead. See the migration notes for details: https://github.com/RaRe-Technologies/smart_open/blob/master/README.rst#migrating-to-the-new-open-function\n",
      "  'See the migration notes for details: %s' % _MIGRATION_NOTES_URL\n"
     ]
    },
    {
     "name": "stdout",
     "output_type": "stream",
     "text": [
      "X\t\tk\twindow\n",
      "only_sp_secretion_rem1_data\t\t3\t7\n",
      "<embeddings_reproduction.embedding_tools.Corpus object at 0x2b77da7c9128>\n"
     ]
    },
    {
     "name": "stderr",
     "output_type": "stream",
     "text": [
      "/home/apps/software/Python/3.6.1-IGB-gcc-4.9.4/lib/python3.6/site-packages/smart_open/smart_open_lib.py:398: UserWarning: This function is deprecated, use smart_open.open instead. See the migration notes for details: https://github.com/RaRe-Technologies/smart_open/blob/master/README.rst#migrating-to-the-new-open-function\n",
      "  'See the migration notes for details: %s' % _MIGRATION_NOTES_URL\n"
     ]
    },
    {
     "name": "stdout",
     "output_type": "stream",
     "text": [
      "X\t\tk\twindow\n",
      "only_sp_secretion_rem1_data\t\t4\t1\n",
      "<embeddings_reproduction.embedding_tools.Corpus object at 0x2b77d993b240>\n"
     ]
    },
    {
     "name": "stderr",
     "output_type": "stream",
     "text": [
      "/home/apps/software/Python/3.6.1-IGB-gcc-4.9.4/lib/python3.6/site-packages/smart_open/smart_open_lib.py:398: UserWarning: This function is deprecated, use smart_open.open instead. See the migration notes for details: https://github.com/RaRe-Technologies/smart_open/blob/master/README.rst#migrating-to-the-new-open-function\n",
      "  'See the migration notes for details: %s' % _MIGRATION_NOTES_URL\n"
     ]
    },
    {
     "name": "stdout",
     "output_type": "stream",
     "text": [
      "X\t\tk\twindow\n",
      "only_sp_secretion_rem1_data\t\t4\t2\n",
      "<embeddings_reproduction.embedding_tools.Corpus object at 0x2b787cdefe48>\n"
     ]
    },
    {
     "name": "stderr",
     "output_type": "stream",
     "text": [
      "/home/apps/software/Python/3.6.1-IGB-gcc-4.9.4/lib/python3.6/site-packages/smart_open/smart_open_lib.py:398: UserWarning: This function is deprecated, use smart_open.open instead. See the migration notes for details: https://github.com/RaRe-Technologies/smart_open/blob/master/README.rst#migrating-to-the-new-open-function\n",
      "  'See the migration notes for details: %s' % _MIGRATION_NOTES_URL\n"
     ]
    },
    {
     "name": "stdout",
     "output_type": "stream",
     "text": [
      "X\t\tk\twindow\n",
      "only_sp_secretion_rem1_data\t\t4\t3\n",
      "<embeddings_reproduction.embedding_tools.Corpus object at 0x2b787cb8cfd0>\n"
     ]
    },
    {
     "name": "stderr",
     "output_type": "stream",
     "text": [
      "/home/apps/software/Python/3.6.1-IGB-gcc-4.9.4/lib/python3.6/site-packages/smart_open/smart_open_lib.py:398: UserWarning: This function is deprecated, use smart_open.open instead. See the migration notes for details: https://github.com/RaRe-Technologies/smart_open/blob/master/README.rst#migrating-to-the-new-open-function\n",
      "  'See the migration notes for details: %s' % _MIGRATION_NOTES_URL\n"
     ]
    },
    {
     "name": "stdout",
     "output_type": "stream",
     "text": [
      "X\t\tk\twindow\n",
      "only_sp_secretion_rem1_data\t\t4\t4\n",
      "<embeddings_reproduction.embedding_tools.Corpus object at 0x2b77da7c0f28>\n"
     ]
    },
    {
     "name": "stderr",
     "output_type": "stream",
     "text": [
      "/home/apps/software/Python/3.6.1-IGB-gcc-4.9.4/lib/python3.6/site-packages/smart_open/smart_open_lib.py:398: UserWarning: This function is deprecated, use smart_open.open instead. See the migration notes for details: https://github.com/RaRe-Technologies/smart_open/blob/master/README.rst#migrating-to-the-new-open-function\n",
      "  'See the migration notes for details: %s' % _MIGRATION_NOTES_URL\n"
     ]
    },
    {
     "name": "stdout",
     "output_type": "stream",
     "text": [
      "X\t\tk\twindow\n",
      "only_sp_secretion_rem1_data\t\t4\t5\n",
      "<embeddings_reproduction.embedding_tools.Corpus object at 0x2b77da7ba588>\n"
     ]
    },
    {
     "name": "stderr",
     "output_type": "stream",
     "text": [
      "/home/apps/software/Python/3.6.1-IGB-gcc-4.9.4/lib/python3.6/site-packages/smart_open/smart_open_lib.py:398: UserWarning: This function is deprecated, use smart_open.open instead. See the migration notes for details: https://github.com/RaRe-Technologies/smart_open/blob/master/README.rst#migrating-to-the-new-open-function\n",
      "  'See the migration notes for details: %s' % _MIGRATION_NOTES_URL\n"
     ]
    },
    {
     "name": "stdout",
     "output_type": "stream",
     "text": [
      "X\t\tk\twindow\n",
      "only_sp_secretion_rem1_data\t\t4\t6\n",
      "<embeddings_reproduction.embedding_tools.Corpus object at 0x2b77d9d9dba8>\n"
     ]
    },
    {
     "name": "stderr",
     "output_type": "stream",
     "text": [
      "/home/apps/software/Python/3.6.1-IGB-gcc-4.9.4/lib/python3.6/site-packages/smart_open/smart_open_lib.py:398: UserWarning: This function is deprecated, use smart_open.open instead. See the migration notes for details: https://github.com/RaRe-Technologies/smart_open/blob/master/README.rst#migrating-to-the-new-open-function\n",
      "  'See the migration notes for details: %s' % _MIGRATION_NOTES_URL\n"
     ]
    },
    {
     "name": "stdout",
     "output_type": "stream",
     "text": [
      "X\t\tk\twindow\n",
      "only_sp_secretion_rem1_data\t\t4\t7\n",
      "<embeddings_reproduction.embedding_tools.Corpus object at 0x2b787cb8cf28>\n"
     ]
    },
    {
     "name": "stderr",
     "output_type": "stream",
     "text": [
      "/home/apps/software/Python/3.6.1-IGB-gcc-4.9.4/lib/python3.6/site-packages/smart_open/smart_open_lib.py:398: UserWarning: This function is deprecated, use smart_open.open instead. See the migration notes for details: https://github.com/RaRe-Technologies/smart_open/blob/master/README.rst#migrating-to-the-new-open-function\n",
      "  'See the migration notes for details: %s' % _MIGRATION_NOTES_URL\n"
     ]
    },
    {
     "name": "stdout",
     "output_type": "stream",
     "text": [
      "X\t\tk\twindow\n",
      "only_sp_secretion_rem1_data\t\t5\t1\n",
      "<embeddings_reproduction.embedding_tools.Corpus object at 0x2b77da7c0518>\n"
     ]
    },
    {
     "name": "stderr",
     "output_type": "stream",
     "text": [
      "/home/apps/software/Python/3.6.1-IGB-gcc-4.9.4/lib/python3.6/site-packages/smart_open/smart_open_lib.py:398: UserWarning: This function is deprecated, use smart_open.open instead. See the migration notes for details: https://github.com/RaRe-Technologies/smart_open/blob/master/README.rst#migrating-to-the-new-open-function\n",
      "  'See the migration notes for details: %s' % _MIGRATION_NOTES_URL\n"
     ]
    },
    {
     "name": "stdout",
     "output_type": "stream",
     "text": [
      "X\t\tk\twindow\n",
      "only_sp_secretion_rem1_data\t\t5\t2\n",
      "<embeddings_reproduction.embedding_tools.Corpus object at 0x2b77da7ba588>\n"
     ]
    },
    {
     "name": "stderr",
     "output_type": "stream",
     "text": [
      "/home/apps/software/Python/3.6.1-IGB-gcc-4.9.4/lib/python3.6/site-packages/smart_open/smart_open_lib.py:398: UserWarning: This function is deprecated, use smart_open.open instead. See the migration notes for details: https://github.com/RaRe-Technologies/smart_open/blob/master/README.rst#migrating-to-the-new-open-function\n",
      "  'See the migration notes for details: %s' % _MIGRATION_NOTES_URL\n"
     ]
    },
    {
     "name": "stdout",
     "output_type": "stream",
     "text": [
      "X\t\tk\twindow\n",
      "only_sp_secretion_rem1_data\t\t5\t3\n",
      "<embeddings_reproduction.embedding_tools.Corpus object at 0x2b77da7c94a8>\n"
     ]
    },
    {
     "name": "stderr",
     "output_type": "stream",
     "text": [
      "/home/apps/software/Python/3.6.1-IGB-gcc-4.9.4/lib/python3.6/site-packages/smart_open/smart_open_lib.py:398: UserWarning: This function is deprecated, use smart_open.open instead. See the migration notes for details: https://github.com/RaRe-Technologies/smart_open/blob/master/README.rst#migrating-to-the-new-open-function\n",
      "  'See the migration notes for details: %s' % _MIGRATION_NOTES_URL\n"
     ]
    },
    {
     "name": "stdout",
     "output_type": "stream",
     "text": [
      "X\t\tk\twindow\n",
      "only_sp_secretion_rem1_data\t\t5\t4\n",
      "<embeddings_reproduction.embedding_tools.Corpus object at 0x2b787cb8cfd0>\n"
     ]
    },
    {
     "name": "stderr",
     "output_type": "stream",
     "text": [
      "/home/apps/software/Python/3.6.1-IGB-gcc-4.9.4/lib/python3.6/site-packages/smart_open/smart_open_lib.py:398: UserWarning: This function is deprecated, use smart_open.open instead. See the migration notes for details: https://github.com/RaRe-Technologies/smart_open/blob/master/README.rst#migrating-to-the-new-open-function\n",
      "  'See the migration notes for details: %s' % _MIGRATION_NOTES_URL\n"
     ]
    },
    {
     "name": "stdout",
     "output_type": "stream",
     "text": [
      "X\t\tk\twindow\n",
      "only_sp_secretion_rem1_data\t\t5\t5\n",
      "<embeddings_reproduction.embedding_tools.Corpus object at 0x2b77d9d9dba8>\n"
     ]
    },
    {
     "name": "stderr",
     "output_type": "stream",
     "text": [
      "/home/apps/software/Python/3.6.1-IGB-gcc-4.9.4/lib/python3.6/site-packages/smart_open/smart_open_lib.py:398: UserWarning: This function is deprecated, use smart_open.open instead. See the migration notes for details: https://github.com/RaRe-Technologies/smart_open/blob/master/README.rst#migrating-to-the-new-open-function\n",
      "  'See the migration notes for details: %s' % _MIGRATION_NOTES_URL\n"
     ]
    },
    {
     "name": "stdout",
     "output_type": "stream",
     "text": [
      "X\t\tk\twindow\n",
      "only_sp_secretion_rem1_data\t\t5\t6\n",
      "<embeddings_reproduction.embedding_tools.Corpus object at 0x2b77da7c0518>\n"
     ]
    },
    {
     "name": "stderr",
     "output_type": "stream",
     "text": [
      "/home/apps/software/Python/3.6.1-IGB-gcc-4.9.4/lib/python3.6/site-packages/smart_open/smart_open_lib.py:398: UserWarning: This function is deprecated, use smart_open.open instead. See the migration notes for details: https://github.com/RaRe-Technologies/smart_open/blob/master/README.rst#migrating-to-the-new-open-function\n",
      "  'See the migration notes for details: %s' % _MIGRATION_NOTES_URL\n"
     ]
    },
    {
     "name": "stdout",
     "output_type": "stream",
     "text": [
      "X\t\tk\twindow\n",
      "only_sp_secretion_rem1_data\t\t5\t7\n",
      "<embeddings_reproduction.embedding_tools.Corpus object at 0x2b77da7ba320>\n"
     ]
    },
    {
     "name": "stderr",
     "output_type": "stream",
     "text": [
      "/home/apps/software/Python/3.6.1-IGB-gcc-4.9.4/lib/python3.6/site-packages/smart_open/smart_open_lib.py:398: UserWarning: This function is deprecated, use smart_open.open instead. See the migration notes for details: https://github.com/RaRe-Technologies/smart_open/blob/master/README.rst#migrating-to-the-new-open-function\n",
      "  'See the migration notes for details: %s' % _MIGRATION_NOTES_URL\n"
     ]
    }
   ],
   "source": [
    "for X in sequence_dict.keys():\n",
    "    for k in range(1,6):\n",
    "        for window in range(1,8):\n",
    "            train(X, k, window)"
   ]
  },
  {
   "cell_type": "code",
   "execution_count": null,
   "metadata": {},
   "outputs": [],
   "source": []
  }
 ],
 "metadata": {
  "kernelspec": {
   "display_name": "Python 3",
   "language": "python",
   "name": "python3"
  },
  "language_info": {
   "codemirror_mode": {
    "name": "ipython",
    "version": 3
   },
   "file_extension": ".py",
   "mimetype": "text/x-python",
   "name": "python",
   "nbconvert_exporter": "python",
   "pygments_lexer": "ipython3",
   "version": "3.6.1"
  }
 },
 "nbformat": 4,
 "nbformat_minor": 4
}
